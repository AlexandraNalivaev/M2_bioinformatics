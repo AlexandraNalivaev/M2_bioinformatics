{
 "cells": [
  {
   "cell_type": "markdown",
   "id": "24de9bd4",
   "metadata": {},
   "source": [
    "# Compute abundance of markers from SALMON remapping output files"
   ]
  },
  {
   "cell_type": "markdown",
   "id": "3f46e741",
   "metadata": {},
   "source": [
    "#### Aim:\n",
    "In each output file (corresponding to 1 sampling site):\n",
    "- compute the RPKM (Reads Per Kilobase Million) for each transcript, by dividing the number of reads remapped against it, by the transcript's length and by the total number of reads present in the sample.\n",
    "\n",
    "- Additionally: modify the outputs of SALMON by adding a column, which identifies each marker ID with a marker type (eg. RAB GTPase or WASH complex)"
   ]
  },
  {
   "cell_type": "code",
   "execution_count": 1,
   "id": "0cf52bdf",
   "metadata": {},
   "outputs": [],
   "source": [
    "# Modules\n",
    "\n",
    "import numpy as np\n",
    "import pandas as pd\n",
    "\n",
    "import os"
   ]
  },
  {
   "cell_type": "code",
   "execution_count": 2,
   "id": "5ba122f9",
   "metadata": {},
   "outputs": [],
   "source": [
    "# Directories where SALMON output files are stored\n",
    "rep='/home/alexandra/Documents/M2Alexandra/Remapping_files/'\n",
    "# To automatize the calculation\n",
    "stations_list=os.listdir(rep) # a list of all the files present in directory 'rep' --> the ouptut files\n",
    "\n",
    "# File storing clearer names for the reference transcripts and gene families to which they belong\n",
    "rep_markers='/home/alexandra/Documents/M2Alexandra/Data_test/Remapping/'\n",
    "df_markers=pd.read_table(rep_markers+'markers_names_vf.tsv')\n",
    "\n",
    "Names=df_markers['Names']\n",
    "markers=df_markers['Markers:']\n"
   ]
  },
  {
   "cell_type": "markdown",
   "id": "93b9709d",
   "metadata": {},
   "source": [
    "#### Loop on the sampling sites:"
   ]
  },
  {
   "cell_type": "code",
   "execution_count": null,
   "id": "db73247d",
   "metadata": {},
   "outputs": [],
   "source": [
    "for station in stations_list:\n",
    "\n",
    "    print(station)\n",
    "    print(\"Write total number of reads\") # Accessible from another SALMON output (salmon_output.log)\n",
    "    tot_reads=input()\n",
    "\n",
    "    if tot_reads!=0:\n",
    "\n",
    "        file=rep+station+'/quant.sf' # Extract SALMON output file\n",
    "\n",
    "        df=pd.read_table(file)\n",
    "        \n",
    "        # Modify the file by adding columns of protein names and protein families\n",
    "        df['Name']=Names\n",
    "        df['Markers']=markers\n",
    "\n",
    "        df.to_csv(rep+station+'_mapping.tsv',sep='\\t')\n",
    "        \n",
    "        # Computation of the abundance SCORE\n",
    "        reads=df['NumReads']\n",
    "        length=df['Length']\n",
    "\n",
    "        # Additional information on how many reads were remapped in total\n",
    "        percentage=np.sum(reads)*100/tot_reads\n",
    "        print(\"Percentage of total remapped reads: \", percentage)\n",
    "\n",
    "        \n",
    "        abundance=np.zeros(len(df))\n",
    "        for i in range(len(df)):\n",
    "            if reads.iloc[i]!=0:\n",
    "                ratio=reads.iloc[i]/(length.iloc[i]*1e-3) # divide by length of transcript in kilobases\n",
    "                tot_ratio=ratio/tot_reads # then divide by the total number of reads\n",
    "                abundance[i]=tot_ratio *1e6 # Multiply by factor 1e6 to have more indicative number\n",
    "\n",
    "        print(\"Percentage of transcripts with non-zero abundance:\", 100*len(np.where(abundance!=0)[0])/len(abundance))\n",
    "\n",
    "        with_abundance=df.copy()\n",
    "        with_abundance['RPKM']=pd.Series(abundance)\n",
    "        #with_abundance.head(60)\n",
    "        with_abundance.to_csv(rep+station+'_abundance.tsv',sep='\\t')\n",
    "\n"
   ]
  }
 ],
 "metadata": {
  "kernelspec": {
   "display_name": "Python 3 (ipykernel)",
   "language": "python",
   "name": "python3"
  },
  "language_info": {
   "codemirror_mode": {
    "name": "ipython",
    "version": 3
   },
   "file_extension": ".py",
   "mimetype": "text/x-python",
   "name": "python",
   "nbconvert_exporter": "python",
   "pygments_lexer": "ipython3",
   "version": "3.9.13"
  }
 },
 "nbformat": 4,
 "nbformat_minor": 5
}
