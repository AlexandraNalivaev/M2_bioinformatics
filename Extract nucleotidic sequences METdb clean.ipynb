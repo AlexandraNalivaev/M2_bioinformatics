{
 "cells": [
  {
   "cell_type": "markdown",
   "id": "d3e57a66",
   "metadata": {},
   "source": [
    "# Extract the nucleotide sequences referring to phagotrophy markers in transcriptomes and genomes of cultivated Dinophyceae"
   ]
  },
  {
   "cell_type": "markdown",
   "id": "5d60504e",
   "metadata": {},
   "source": [
    "#### Aim of this code:\n",
    "Match each of the IDs of phagotrophic markers (per cultivated species) with a nucleotidic sequence.\n",
    "\n",
    "This code is applied specifically to MMETSP METDB files because referencing to proteins depends on data source.\n",
    "\n",
    "Required:\n",
    "- A .tsv file containing, for the species in question, a list of protein markers of phagotrophy, with their reference IDs in METdb;\n",
    "- A fasta file matching the protein IDs with nucleotide sequences (genome/transcriptome)."
   ]
  },
  {
   "cell_type": "code",
   "execution_count": 1,
   "id": "c25a8c80",
   "metadata": {},
   "outputs": [],
   "source": [
    "# Modules\n",
    "import numpy as np\n",
    "import pandas as pd"
   ]
  },
  {
   "cell_type": "markdown",
   "id": "3df181be",
   "metadata": {},
   "source": [
    "This script provides an example with test files."
   ]
  },
  {
   "cell_type": "code",
   "execution_count": 2,
   "id": "7ac46a7a",
   "metadata": {},
   "outputs": [],
   "source": [
    "# Read the files\n",
    "\n",
    "# Directory of the files storing markers' IDs\n",
    "rep_id='/home/alexandra/Documents/M2Alexandra/Data_test/Annot_func/'\n",
    "file_id='101_MMETSP-METDB_00486-karenia-brevis-ccmp2229-paired_markers.tsv'\n",
    "species='101_MMETSP-METDB_00486-karenia-brevis-ccmp2229-paired'\n",
    "\n",
    "# Directory of the fasta files storing the nucleotide sequences\n",
    "rep_seq='/home/alexandra/Documents/M2Alexandra/Data_test/Annot_func/'\n",
    "file_seq='MMETSP-METDB_00486-karenia-brevis-ccmp2229-paired.fasta'"
   ]
  },
  {
   "cell_type": "markdown",
   "id": "a6b63514",
   "metadata": {},
   "source": [
    "#### Read the .tsv ID file :"
   ]
  },
  {
   "cell_type": "code",
   "execution_count": 8,
   "id": "85a4d6ae",
   "metadata": {},
   "outputs": [],
   "source": [
    "IDprot=pd.read_csv(rep_id+file_id,sep='\\t')\n",
    "myID=IDprot['ID']"
   ]
  },
  {
   "cell_type": "markdown",
   "id": "db071c49",
   "metadata": {},
   "source": [
    "#### Read the fasta file:"
   ]
  },
  {
   "cell_type": "code",
   "execution_count": 14,
   "id": "34bcdd67",
   "metadata": {},
   "outputs": [],
   "source": [
    "# Depending on fasta files, number of columns might be changing\n",
    "# Option to deal with this: assign same number of columns and fill with NaN \n",
    "with open(rep_seq+file_seq, 'r') as temp_f:\n",
    "    # get number of columns in each line\n",
    "    col_count = [ len(l.split(\" \")) for l in temp_f.readlines() ]\n",
    "# Generate column names  (names will be 0, 1, 2, ..., maximum columns - 1)\n",
    "column_names = [i for i in range(0, max(col_count))]"
   ]
  },
  {
   "cell_type": "code",
   "execution_count": 15,
   "id": "7af13376",
   "metadata": {},
   "outputs": [],
   "source": [
    "# Read fasta file\n",
    "df = pd.read_csv(rep_seq+file_seq, header=None, delimiter=\" \", names=column_names)\n",
    "# Keep the variables I need, stored in the 1st column\n",
    "data=df[0]\n",
    "IDS=data[::2] #there is an ID every 2 lines\n",
    "seq=data[1::2] # and a nt sequence every other line"
   ]
  },
  {
   "cell_type": "markdown",
   "id": "21d9408a",
   "metadata": {},
   "source": [
    "#### Loop over the phagotrophy ID file and find the associated sequences, store them in a list"
   ]
  },
  {
   "cell_type": "code",
   "execution_count": 18,
   "id": "2e9a829c",
   "metadata": {},
   "outputs": [],
   "source": [
    "list_seqname=[]\n",
    "for item in myID:\n",
    "    newname='>'+item[:-3] # get rid of '.p1' in the id name\n",
    "    idx=np.where(IDS==newname)[0][0]\n",
    "    seqname=seq[idx*2+1] #the corresponding line in the fasta file storing the sequence\n",
    "    list_seqname.append(seqname) \n",
    "#print('Nucleotidic sequences : ', list_seqname)"
   ]
  },
  {
   "cell_type": "code",
   "execution_count": 24,
   "id": "b610afc2",
   "metadata": {},
   "outputs": [],
   "source": [
    "dim=len(list_seqname)\n",
    "#dim==len(myID) # Check for mistakes\n"
   ]
  },
  {
   "cell_type": "markdown",
   "id": "d9911875",
   "metadata": {},
   "source": [
    "#### Create a text file that will store the reference sequences (for remapping steps)"
   ]
  },
  {
   "cell_type": "code",
   "execution_count": 25,
   "id": "f8fd13be",
   "metadata": {},
   "outputs": [],
   "source": [
    "with open(rep_id+'{}_seq_phagomarkers.txt'.format(species),'w') as ce_fichier:\n",
    "    for i in range(len(list_seqname)):\n",
    "        ce_fichier.write(myID[i]) # write the ID as well so we know what the sequence corresponds to\n",
    "        ce_fichier.write('\\n')\n",
    "        ce_fichier.write(list_seqname[i])\n",
    "        ce_fichier.write('\\n')"
   ]
  },
  {
   "cell_type": "code",
   "execution_count": null,
   "id": "f3a19264",
   "metadata": {},
   "outputs": [],
   "source": []
  }
 ],
 "metadata": {
  "kernelspec": {
   "display_name": "Python 3 (ipykernel)",
   "language": "python",
   "name": "python3"
  },
  "language_info": {
   "codemirror_mode": {
    "name": "ipython",
    "version": 3
   },
   "file_extension": ".py",
   "mimetype": "text/x-python",
   "name": "python",
   "nbconvert_exporter": "python",
   "pygments_lexer": "ipython3",
   "version": "3.9.13"
  }
 },
 "nbformat": 4,
 "nbformat_minor": 5
}
