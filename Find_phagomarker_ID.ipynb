{
 "cells": [
  {
   "cell_type": "markdown",
   "id": "80d8ff42",
   "metadata": {},
   "source": [
    "# Searching for phagotrophic markers in the proteomes of ~100 cultivated Dinoflagellates"
   ]
  },
  {
   "cell_type": "markdown",
   "id": "ac3969a2",
   "metadata": {},
   "source": [
    "This code is used for the \"functional annotation\" part of the internship. It runs on .tsv files which list a number of identified proteins in a cultivated Dinoflagellate. Its aim is to try to find markers of phagotrophy in these organisms.\n",
    "\n",
    "Markers searched for: phosphatidylinositol kinase, WASH complex (also named WASP and Scar-homologue), and WASP complex, Snare (vesicular transport), small G proteins (Rab, Rac, Rap, Rho, and Cdc42).\n",
    "\n",
    "What we need for the following step is to extract the proteins' 'official identifier' from these files. The proteins' identifiers will be used to extract the proteins' associated nucleotidic sequences from FASTA files"
   ]
  },
  {
   "cell_type": "code",
   "execution_count": 7,
   "id": "c6a2d1a2",
   "metadata": {},
   "outputs": [],
   "source": [
    "# Modules\n",
    "\n",
    "import os\n",
    "import numpy as np\n",
    "import pandas as pd\n",
    "import re # regular expression (to find aliases of proteins' names)\n",
    "\n",
    "# Directory of the files stored\n",
    "# Useful to loop on all the .tsv files on the cluster\n",
    "directory='/home/alexandra/Documents/M2Alexandra/Data_test/Annot_func/'\n",
    "output_dir='/home/alexandra/Documents/M2Alexandra/Data_test/Output_annot/'"
   ]
  },
  {
   "cell_type": "markdown",
   "id": "9a211541",
   "metadata": {},
   "source": [
    "We will use Python's RE to find 'aliases' (mainly, upper/lowercase, spaces ...) of the markers.\n",
    "\n",
    "Documentation on Python's RE (regular expression) module can be found at: https://docs.python.org/3/library/re.html"
   ]
  },
  {
   "cell_type": "markdown",
   "id": "2de6d497",
   "metadata": {},
   "source": [
    "### Define tags for the identified markers of phagotrophy, find their aliases"
   ]
  },
  {
   "cell_type": "code",
   "execution_count": 8,
   "id": "bb2bf712",
   "metadata": {},
   "outputs": [],
   "source": [
    "# Tags I am looking for in the proteins' names\n",
    "# Ensemble of necessary (not sufficient) proteins required for phagotrophy\n",
    "\n",
    "# Small GTPases\n",
    "rab=re.compile('RAB',re.IGNORECASE) #IGNORECASE ==> I don't care if it's lower or uppercase characters\n",
    "rac=re.compile('RAC.GTP', re.IGNORECASE)\n",
    "rap=re.compile('RAP.GTP',re.IGNORECASE)\n",
    "cdc=re.compile('CDC42',re.IGNORECASE)\n",
    "rho=re.compile('Rho.GTP',re.IGNORECASE)\n",
    "\n",
    "#Phosphatidylinositol 3 phosphate 4 kinase (required for invagination of large particles)\n",
    "pho=re.compile('phosphatidylinositol.3.phosphate',re.IGNORECASE) #dot = matches any character (like * in linux)\n",
    "#kin=re.compile('kinase',re.IGNORECASE)\n",
    "\n",
    "# WASH complex : Nucleation-promoting factor, interacting with Arp2/3 in actin polymerization process\n",
    "wash=re.compile('WASH',re.IGNORECASE)\n",
    "wasp=re.compile('WASP',re.IGNORECASE)\n",
    "\n",
    "# SNARE: vesicular transport\n",
    "snare=re.compile('SNARE',re.IGNORECASE)\n",
    "\n",
    "# Cathepsins : proteases involved in the resolution (digestion) step\n",
    "cat=re.compile('Cathepsin',re.IGNORECASE)\n",
    "\n",
    "# Is my organism a phototroph ? --> Expected to be true for all organisms\n",
    "chl=re.compile('cytochrome',re.IGNORECASE)"
   ]
  },
  {
   "cell_type": "markdown",
   "id": "e1d0e737",
   "metadata": {},
   "source": [
    "### Read the files"
   ]
  },
  {
   "cell_type": "markdown",
   "id": "76fa07b5",
   "metadata": {},
   "source": [
    "This code is designed to provide an example, running on a single test file."
   ]
  },
  {
   "cell_type": "code",
   "execution_count": 9,
   "id": "0d03e061",
   "metadata": {},
   "outputs": [],
   "source": [
    "# Run on a directory containing the files\n",
    "#rep=os.listdir('/home/alexandra/Documents/M2Alexandra/Data_test/Annot_func/') # Makes a list of all files (filenames) present in this directory\n",
    "# Run on a single test file\n",
    "rep=['23_EP00420_Gonyaulax_spinifera.tsv'] # test file"
   ]
  },
  {
   "cell_type": "code",
   "execution_count": 36,
   "id": "76e9b3db",
   "metadata": {},
   "outputs": [
    {
     "name": "stdout",
     "output_type": "stream",
     "text": [
      "23_EP00420_Gonyaulax_spinifera.tsv\n"
     ]
    }
   ],
   "source": [
    "for filename in rep: # Loop on the files stored in the directory\n",
    "    print(filename)\n",
    "    species=filename[:-4]\n",
    "    file=pd.read_table(directory+str(filename))\n",
    "    #file.head(10)\n",
    "    # We are interested in the first ('protein_accession') and the 5th ('signature_description') columns."
   ]
  },
  {
   "cell_type": "code",
   "execution_count": 22,
   "id": "9968a4f3",
   "metadata": {},
   "outputs": [],
   "source": [
    "# Define names for the extracted columns\n",
    "\n",
    "proteins=file['signature_description'] # in this column, I search for the markers' names\n",
    "\n",
    "ids=file['protein_accession'] # then, if there's a match, I search for their 'official' IDs\n",
    "go=file['go_annotation'] # if any (often NaN)\n",
    "length=file['sequence_length'] # length of the sequence\n",
    "start_stop=file[['start_location','stop_location']]"
   ]
  },
  {
   "cell_type": "markdown",
   "id": "2ad71ed3",
   "metadata": {},
   "source": [
    "The general idea is to:\n",
    "\n",
    "- read each line;\n",
    "- look whether, in this line, I can find an alias of the markers defined hereabove;\n",
    "- if I can, then store the protein's ID (1st column);\n",
    "- store these IDs in a list;\n",
    "- then, search for unique IDs in this list, so I won't store the same IDs multiple times;\n",
    "- store unique IDs in a .txt file, named after the species"
   ]
  },
  {
   "cell_type": "markdown",
   "id": "36e81f05",
   "metadata": {},
   "source": [
    "### Search for the annotations linked to markers' names"
   ]
  },
  {
   "cell_type": "code",
   "execution_count": 24,
   "id": "4208122d",
   "metadata": {},
   "outputs": [
    {
     "name": "stdout",
     "output_type": "stream",
     "text": [
      "I have cytochroms\n"
     ]
    }
   ],
   "source": [
    "mixo={rab,rac,rap,cdc,rho,pho,wash,wasp,snare,cat} #dict storing the phagotrophic markers' aliases (type re.Pattern)\n",
    "list_ids=[] # list storing the ids of the markers found in the species\n",
    "list_markers=[] # storing the attributed marker\n",
    "list_proteins=[] # storing the (exact) functional annotation\n",
    "\n",
    "\n",
    "Photo=False # up to now, we don't know whether the organism is capable of phototrophy\n",
    "\n",
    "for index in range(len(proteins)): # Loop on the lines of the file and read the corresponding line\n",
    "    prot=str(proteins[index]) #read the protein corresponding to this line\n",
    "    opni=True # prot is an unknown yet\n",
    "    for item in mixo:\n",
    "        if opni:\n",
    "            find=item.match(str(prot)) # Does the protein correspond to the marker ?\n",
    "        \n",
    "            if find:\n",
    "                opni=False\n",
    "                # Uncomment the lines below to check if the code works properly\n",
    "                #print(item)\n",
    "                #print(proteins[index])\n",
    "                id_prot=ids[index]\n",
    "                #print(id_prot)\n",
    "                list_ids.append(id_prot)\n",
    "                list_markers.append(item.pattern)\n",
    "                list_proteins.append(proteins[index])\n",
    "\n",
    "\n",
    "    \n",
    "    if not Photo: # in case you haven't determined yet whether it is a phototroph or not\n",
    "        pht=chl.match(str(proteins[index])) # is there a protein called 'cytochrom' somewhere ?\n",
    "        if pht: # Yes there is\n",
    "            Photo=True # ... so it is likely to be a phototroph\n",
    "\n",
    "if Photo:\n",
    "    print('I have cytochroms')\n"
   ]
  },
  {
   "cell_type": "markdown",
   "id": "3d0c230a",
   "metadata": {},
   "source": [
    "### Now storing those IDs"
   ]
  },
  {
   "cell_type": "code",
   "execution_count": 35,
   "id": "b623a21b",
   "metadata": {},
   "outputs": [],
   "source": [
    "#Storing the IDs in a dataframe\n",
    "ids_series=pd.Series(list_ids)\n",
    "markers_series=pd.Series(list_markers)\n",
    "proteins_series=pd.Series(list_proteins)\n",
    "df=pd.DataFrame({'ID':ids_series, 'Markers':markers_series, \"Proteins\":proteins_series})\n",
    "\n",
    "df.to_csv(directory+filename[:-4]+'_markers'+'.tsv',sep='\\t')"
   ]
  }
 ],
 "metadata": {
  "kernelspec": {
   "display_name": "Python 3 (ipykernel)",
   "language": "python",
   "name": "python3"
  },
  "language_info": {
   "codemirror_mode": {
    "name": "ipython",
    "version": 3
   },
   "file_extension": ".py",
   "mimetype": "text/x-python",
   "name": "python",
   "nbconvert_exporter": "python",
   "pygments_lexer": "ipython3",
   "version": "3.9.13"
  }
 },
 "nbformat": 4,
 "nbformat_minor": 5
}
